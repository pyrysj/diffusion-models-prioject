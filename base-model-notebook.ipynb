{
 "cells": [
  {
   "cell_type": "markdown",
   "metadata": {},
   "source": [
    "# Idea\n",
    "\n",
    "We will start with the ~~celebrity~~ (MINST for now!) faces dataset and then go on from there.\n",
    "\n",
    "Broad idea:\n",
    "1. Figure out how to get the ~~celebrity~~ images and then noise them.  \n",
    "    a. This is probably relatively easy to do with pytortch as we can get the ~~celebrity~~ images from there.\n",
    "    b. adding noise too should be relatively simple.\n",
    "2. Use an U-net to denoise the image. \n",
    "3. Display results. What might be even more cool would be to visualise the denoising and noising process. This should be relatively easy to do. "
   ]
  },
  {
   "cell_type": "markdown",
   "metadata": {},
   "source": [
    "# Imports, configuration"
   ]
  },
  {
   "cell_type": "code",
   "execution_count": 2,
   "metadata": {},
   "outputs": [],
   "source": [
    "import torch\n",
    "from torch.utils.data import Dataset\n",
    "from torchvision import datasets\n",
    "from torchvision.transforms import ToTensor\n",
    "import matplotlib.pyplot as plt"
   ]
  },
  {
   "cell_type": "code",
   "execution_count": 17,
   "metadata": {},
   "outputs": [],
   "source": [
    "# seems to be the standard\n",
    "T = 1000\n",
    "# sets up linspace as in the paper\n",
    "betas = torch.linspace(10**-4,0.02,T)"
   ]
  },
  {
   "cell_type": "markdown",
   "metadata": {},
   "source": [
    "Note on beta schedule: different approaches exist, but here we just replicate the approach used in [arxiv:2006.11239]"
   ]
  },
  {
   "cell_type": "markdown",
   "metadata": {},
   "source": [
    "# Dataset initialisation"
   ]
  },
  {
   "cell_type": "code",
   "execution_count": 4,
   "metadata": {},
   "outputs": [],
   "source": [
    "base_images = datasets.MNIST(\n",
    "    root=\"data\",\n",
    "    train=True,\n",
    "    download=\"True\",\n",
    "    transform=ToTensor()\n",
    ")"
   ]
  },
  {
   "cell_type": "code",
   "execution_count": 24,
   "metadata": {},
   "outputs": [
    {
     "data": {
      "image/png": "[encoded data removed]",
      "text/plain": [
       "<Figure size 800x800 with 9 Axes>"
      ]
     },
     "metadata": {},
     "output_type": "display_data"
    }
   ],
   "source": [
    "# just a quick plot to visualise the dataset\n",
    "figure = plt.figure(figsize=(8, 8))\n",
    "cols, rows = 3, 3\n",
    "for i in range(1, cols * rows + 1):\n",
    "    sample_idx = torch.randint(len(base_images), size=(1,)).item()\n",
    "    img, label = base_images[sample_idx]\n",
    "    figure.add_subplot(rows, cols, i)\n",
    "    plt.axis(\"off\")\n",
    "    plt.imshow(img.squeeze(), cmap=\"gray\")\n",
    "figure.suptitle(\"MINST dataset\")\n",
    "plt.show()"
   ]
  },
  {
   "cell_type": "markdown",
   "metadata": {},
   "source": [
    "# Noise addition"
   ]
  },
  {
   "cell_type": "markdown",
   "metadata": {},
   "source": [
    "Use the gaussian reparameterization trick, we can write $q$ as\n",
    "\\begin{align*}\n",
    "    q(x_t|x_0)=\\mathcal{N}(x_t;\\sqrt{\\bar{\\alpha}}x_0,(1-\\hat{\\alpha}_t)I)=\\sqrt{\\bar{\\alpha}}x_0+\\sqrt{(1-\\hat{\\alpha}_t)}\\epsilon\n",
    "\\end{align*}\n",
    "where $\\epsilon\\sim N(0,1)$. This also gives some mathematical intuition behind what is happening. We can for instance notice that as $t$ grows the original image decays further and further until we only have white noise. "
   ]
  },
  {
   "cell_type": "code",
   "execution_count": 18,
   "metadata": {},
   "outputs": [
    {
     "data": {
      "text/plain": [
       "tensor([0.9999, 0.9999, 0.9999, 0.9998, 0.9998, 0.9998, 0.9998, 0.9998, 0.9997,\n",
       "        0.9997, 0.9997, 0.9997, 0.9997, 0.9996, 0.9996, 0.9996, 0.9996, 0.9996,\n",
       "        0.9995, 0.9995, 0.9995, 0.9995, 0.9995, 0.9994, 0.9994, 0.9994, 0.9994,\n",
       "        0.9994, 0.9993, 0.9993, 0.9993, 0.9993, 0.9993, 0.9992, 0.9992, 0.9992,\n",
       "        0.9992, 0.9992, 0.9991, 0.9991, 0.9991, 0.9991, 0.9991, 0.9990, 0.9990,\n",
       "        0.9990, 0.9990, 0.9990, 0.9989, 0.9989, 0.9989, 0.9989, 0.9989, 0.9988,\n",
       "        0.9988, 0.9988, 0.9988, 0.9988, 0.9987, 0.9987, 0.9987, 0.9987, 0.9987,\n",
       "        0.9986, 0.9986, 0.9986, 0.9986, 0.9986, 0.9985, 0.9985, 0.9985, 0.9985,\n",
       "        0.9985, 0.9984, 0.9984, 0.9984, 0.9984, 0.9984, 0.9983, 0.9983, 0.9983,\n",
       "        0.9983, 0.9983, 0.9982, 0.9982, 0.9982, 0.9982, 0.9982, 0.9981, 0.9981,\n",
       "        0.9981, 0.9981, 0.9981, 0.9980, 0.9980, 0.9980, 0.9980, 0.9980, 0.9979,\n",
       "        0.9979, 0.9979, 0.9979, 0.9979, 0.9978, 0.9978, 0.9978, 0.9978, 0.9978,\n",
       "        0.9977, 0.9977, 0.9977, 0.9977, 0.9977, 0.9976, 0.9976, 0.9976, 0.9976,\n",
       "        0.9976, 0.9975, 0.9975, 0.9975, 0.9975, 0.9975, 0.9974, 0.9974, 0.9974,\n",
       "        0.9974, 0.9974, 0.9974, 0.9973, 0.9973, 0.9973, 0.9973, 0.9973, 0.9972,\n",
       "        0.9972, 0.9972, 0.9972, 0.9972, 0.9971, 0.9971, 0.9971, 0.9971, 0.9971,\n",
       "        0.9970, 0.9970, 0.9970, 0.9970, 0.9970, 0.9969, 0.9969, 0.9969, 0.9969,\n",
       "        0.9969, 0.9968, 0.9968, 0.9968, 0.9968, 0.9968, 0.9967, 0.9967, 0.9967,\n",
       "        0.9967, 0.9967, 0.9966, 0.9966, 0.9966, 0.9966, 0.9966, 0.9965, 0.9965,\n",
       "        0.9965, 0.9965, 0.9965, 0.9964, 0.9964, 0.9964, 0.9964, 0.9964, 0.9963,\n",
       "        0.9963, 0.9963, 0.9963, 0.9963, 0.9962, 0.9962, 0.9962, 0.9962, 0.9962,\n",
       "        0.9961, 0.9961, 0.9961, 0.9961, 0.9961, 0.9960, 0.9960, 0.9960, 0.9960,\n",
       "        0.9960, 0.9959, 0.9959, 0.9959, 0.9959, 0.9959, 0.9958, 0.9958, 0.9958,\n",
       "        0.9958, 0.9958, 0.9957, 0.9957, 0.9957, 0.9957, 0.9957, 0.9956, 0.9956,\n",
       "        0.9956, 0.9956, 0.9956, 0.9955, 0.9955, 0.9955, 0.9955, 0.9955, 0.9954,\n",
       "        0.9954, 0.9954, 0.9954, 0.9954, 0.9953, 0.9953, 0.9953, 0.9953, 0.9953,\n",
       "        0.9952, 0.9952, 0.9952, 0.9952, 0.9952, 0.9951, 0.9951, 0.9951, 0.9951,\n",
       "        0.9951, 0.9950, 0.9950, 0.9950, 0.9950, 0.9950, 0.9949, 0.9949, 0.9949,\n",
       "        0.9949, 0.9949, 0.9948, 0.9948, 0.9948, 0.9948, 0.9948, 0.9947, 0.9947,\n",
       "        0.9947, 0.9947, 0.9947, 0.9946, 0.9946, 0.9946, 0.9946, 0.9946, 0.9945,\n",
       "        0.9945, 0.9945, 0.9945, 0.9945, 0.9944, 0.9944, 0.9944, 0.9944, 0.9944,\n",
       "        0.9943, 0.9943, 0.9943, 0.9943, 0.9943, 0.9942, 0.9942, 0.9942, 0.9942,\n",
       "        0.9942, 0.9941, 0.9941, 0.9941, 0.9941, 0.9941, 0.9940, 0.9940, 0.9940,\n",
       "        0.9940, 0.9940, 0.9939, 0.9939, 0.9939, 0.9939, 0.9939, 0.9938, 0.9938,\n",
       "        0.9938, 0.9938, 0.9938, 0.9937, 0.9937, 0.9937, 0.9937, 0.9937, 0.9936,\n",
       "        0.9936, 0.9936, 0.9936, 0.9936, 0.9935, 0.9935, 0.9935, 0.9935, 0.9935,\n",
       "        0.9934, 0.9934, 0.9934, 0.9934, 0.9934, 0.9933, 0.9933, 0.9933, 0.9933,\n",
       "        0.9933, 0.9932, 0.9932, 0.9932, 0.9932, 0.9932, 0.9931, 0.9931, 0.9931,\n",
       "        0.9931, 0.9931, 0.9930, 0.9930, 0.9930, 0.9930, 0.9930, 0.9929, 0.9929,\n",
       "        0.9929, 0.9929, 0.9929, 0.9928, 0.9928, 0.9928, 0.9928, 0.9928, 0.9927,\n",
       "        0.9927, 0.9927, 0.9927, 0.9927, 0.9926, 0.9926, 0.9926, 0.9926, 0.9926,\n",
       "        0.9925, 0.9925, 0.9925, 0.9925, 0.9925, 0.9924, 0.9924, 0.9924, 0.9924,\n",
       "        0.9924, 0.9924, 0.9923, 0.9923, 0.9923, 0.9923, 0.9923, 0.9922, 0.9922,\n",
       "        0.9922, 0.9922, 0.9922, 0.9921, 0.9921, 0.9921, 0.9921, 0.9921, 0.9920,\n",
       "        0.9920, 0.9920, 0.9920, 0.9920, 0.9919, 0.9919, 0.9919, 0.9919, 0.9919,\n",
       "        0.9918, 0.9918, 0.9918, 0.9918, 0.9918, 0.9917, 0.9917, 0.9917, 0.9917,\n",
       "        0.9917, 0.9916, 0.9916, 0.9916, 0.9916, 0.9916, 0.9915, 0.9915, 0.9915,\n",
       "        0.9915, 0.9915, 0.9914, 0.9914, 0.9914, 0.9914, 0.9914, 0.9913, 0.9913,\n",
       "        0.9913, 0.9913, 0.9913, 0.9912, 0.9912, 0.9912, 0.9912, 0.9912, 0.9911,\n",
       "        0.9911, 0.9911, 0.9911, 0.9911, 0.9910, 0.9910, 0.9910, 0.9910, 0.9910,\n",
       "        0.9909, 0.9909, 0.9909, 0.9909, 0.9909, 0.9908, 0.9908, 0.9908, 0.9908,\n",
       "        0.9908, 0.9907, 0.9907, 0.9907, 0.9907, 0.9907, 0.9906, 0.9906, 0.9906,\n",
       "        0.9906, 0.9906, 0.9905, 0.9905, 0.9905, 0.9905, 0.9905, 0.9904, 0.9904,\n",
       "        0.9904, 0.9904, 0.9904, 0.9903, 0.9903, 0.9903, 0.9903, 0.9903, 0.9902,\n",
       "        0.9902, 0.9902, 0.9902, 0.9902, 0.9901, 0.9901, 0.9901, 0.9901, 0.9901,\n",
       "        0.9900, 0.9900, 0.9900, 0.9900, 0.9900, 0.9899, 0.9899, 0.9899, 0.9899,\n",
       "        0.9899, 0.9898, 0.9898, 0.9898, 0.9898, 0.9898, 0.9897, 0.9897, 0.9897,\n",
       "        0.9897, 0.9897, 0.9896, 0.9896, 0.9896, 0.9896, 0.9896, 0.9895, 0.9895,\n",
       "        0.9895, 0.9895, 0.9895, 0.9894, 0.9894, 0.9894, 0.9894, 0.9894, 0.9893,\n",
       "        0.9893, 0.9893, 0.9893, 0.9893, 0.9892, 0.9892, 0.9892, 0.9892, 0.9892,\n",
       "        0.9891, 0.9891, 0.9891, 0.9891, 0.9891, 0.9890, 0.9890, 0.9890, 0.9890,\n",
       "        0.9890, 0.9889, 0.9889, 0.9889, 0.9889, 0.9889, 0.9888, 0.9888, 0.9888,\n",
       "        0.9888, 0.9888, 0.9887, 0.9887, 0.9887, 0.9887, 0.9887, 0.9886, 0.9886,\n",
       "        0.9886, 0.9886, 0.9886, 0.9885, 0.9885, 0.9885, 0.9885, 0.9885, 0.9884,\n",
       "        0.9884, 0.9884, 0.9884, 0.9884, 0.9883, 0.9883, 0.9883, 0.9883, 0.9883,\n",
       "        0.9882, 0.9882, 0.9882, 0.9882, 0.9882, 0.9881, 0.9881, 0.9881, 0.9881,\n",
       "        0.9881, 0.9880, 0.9880, 0.9880, 0.9880, 0.9880, 0.9879, 0.9879, 0.9879,\n",
       "        0.9879, 0.9879, 0.9878, 0.9878, 0.9878, 0.9878, 0.9878, 0.9877, 0.9877,\n",
       "        0.9877, 0.9877, 0.9877, 0.9876, 0.9876, 0.9876, 0.9876, 0.9876, 0.9875,\n",
       "        0.9875, 0.9875, 0.9875, 0.9875, 0.9875, 0.9874, 0.9874, 0.9874, 0.9874,\n",
       "        0.9874, 0.9873, 0.9873, 0.9873, 0.9873, 0.9873, 0.9872, 0.9872, 0.9872,\n",
       "        0.9872, 0.9872, 0.9871, 0.9871, 0.9871, 0.9871, 0.9871, 0.9870, 0.9870,\n",
       "        0.9870, 0.9870, 0.9870, 0.9869, 0.9869, 0.9869, 0.9869, 0.9869, 0.9868,\n",
       "        0.9868, 0.9868, 0.9868, 0.9868, 0.9867, 0.9867, 0.9867, 0.9867, 0.9867,\n",
       "        0.9866, 0.9866, 0.9866, 0.9866, 0.9866, 0.9865, 0.9865, 0.9865, 0.9865,\n",
       "        0.9865, 0.9864, 0.9864, 0.9864, 0.9864, 0.9864, 0.9863, 0.9863, 0.9863,\n",
       "        0.9863, 0.9863, 0.9862, 0.9862, 0.9862, 0.9862, 0.9862, 0.9861, 0.9861,\n",
       "        0.9861, 0.9861, 0.9861, 0.9860, 0.9860, 0.9860, 0.9860, 0.9860, 0.9859,\n",
       "        0.9859, 0.9859, 0.9859, 0.9859, 0.9858, 0.9858, 0.9858, 0.9858, 0.9858,\n",
       "        0.9857, 0.9857, 0.9857, 0.9857, 0.9857, 0.9856, 0.9856, 0.9856, 0.9856,\n",
       "        0.9856, 0.9855, 0.9855, 0.9855, 0.9855, 0.9855, 0.9854, 0.9854, 0.9854,\n",
       "        0.9854, 0.9854, 0.9853, 0.9853, 0.9853, 0.9853, 0.9853, 0.9852, 0.9852,\n",
       "        0.9852, 0.9852, 0.9852, 0.9851, 0.9851, 0.9851, 0.9851, 0.9851, 0.9850,\n",
       "        0.9850, 0.9850, 0.9850, 0.9850, 0.9849, 0.9849, 0.9849, 0.9849, 0.9849,\n",
       "        0.9848, 0.9848, 0.9848, 0.9848, 0.9848, 0.9847, 0.9847, 0.9847, 0.9847,\n",
       "        0.9847, 0.9846, 0.9846, 0.9846, 0.9846, 0.9846, 0.9845, 0.9845, 0.9845,\n",
       "        0.9845, 0.9845, 0.9844, 0.9844, 0.9844, 0.9844, 0.9844, 0.9843, 0.9843,\n",
       "        0.9843, 0.9843, 0.9843, 0.9842, 0.9842, 0.9842, 0.9842, 0.9842, 0.9841,\n",
       "        0.9841, 0.9841, 0.9841, 0.9841, 0.9840, 0.9840, 0.9840, 0.9840, 0.9840,\n",
       "        0.9839, 0.9839, 0.9839, 0.9839, 0.9839, 0.9838, 0.9838, 0.9838, 0.9838,\n",
       "        0.9838, 0.9837, 0.9837, 0.9837, 0.9837, 0.9837, 0.9836, 0.9836, 0.9836,\n",
       "        0.9836, 0.9836, 0.9835, 0.9835, 0.9835, 0.9835, 0.9835, 0.9834, 0.9834,\n",
       "        0.9834, 0.9834, 0.9834, 0.9833, 0.9833, 0.9833, 0.9833, 0.9833, 0.9832,\n",
       "        0.9832, 0.9832, 0.9832, 0.9832, 0.9831, 0.9831, 0.9831, 0.9831, 0.9831,\n",
       "        0.9830, 0.9830, 0.9830, 0.9830, 0.9830, 0.9829, 0.9829, 0.9829, 0.9829,\n",
       "        0.9829, 0.9828, 0.9828, 0.9828, 0.9828, 0.9828, 0.9827, 0.9827, 0.9827,\n",
       "        0.9827, 0.9827, 0.9826, 0.9826, 0.9826, 0.9826, 0.9826, 0.9825, 0.9825,\n",
       "        0.9825, 0.9825, 0.9825, 0.9825, 0.9824, 0.9824, 0.9824, 0.9824, 0.9824,\n",
       "        0.9823, 0.9823, 0.9823, 0.9823, 0.9823, 0.9822, 0.9822, 0.9822, 0.9822,\n",
       "        0.9822, 0.9821, 0.9821, 0.9821, 0.9821, 0.9821, 0.9820, 0.9820, 0.9820,\n",
       "        0.9820, 0.9820, 0.9819, 0.9819, 0.9819, 0.9819, 0.9819, 0.9818, 0.9818,\n",
       "        0.9818, 0.9818, 0.9818, 0.9817, 0.9817, 0.9817, 0.9817, 0.9817, 0.9816,\n",
       "        0.9816, 0.9816, 0.9816, 0.9816, 0.9815, 0.9815, 0.9815, 0.9815, 0.9815,\n",
       "        0.9814, 0.9814, 0.9814, 0.9814, 0.9814, 0.9813, 0.9813, 0.9813, 0.9813,\n",
       "        0.9813, 0.9812, 0.9812, 0.9812, 0.9812, 0.9812, 0.9811, 0.9811, 0.9811,\n",
       "        0.9811, 0.9811, 0.9810, 0.9810, 0.9810, 0.9810, 0.9810, 0.9809, 0.9809,\n",
       "        0.9809, 0.9809, 0.9809, 0.9808, 0.9808, 0.9808, 0.9808, 0.9808, 0.9807,\n",
       "        0.9807, 0.9807, 0.9807, 0.9807, 0.9806, 0.9806, 0.9806, 0.9806, 0.9806,\n",
       "        0.9805, 0.9805, 0.9805, 0.9805, 0.9805, 0.9804, 0.9804, 0.9804, 0.9804,\n",
       "        0.9804, 0.9803, 0.9803, 0.9803, 0.9803, 0.9803, 0.9802, 0.9802, 0.9802,\n",
       "        0.9802, 0.9802, 0.9801, 0.9801, 0.9801, 0.9801, 0.9801, 0.9800, 0.9800,\n",
       "        0.9800])"
      ]
     },
     "metadata": {},
     "output_type": "display_data"
    }
   ],
   "source": [
    "#define epsilon\n",
    "# since we know we are working with the MINST dataset, we have the dimension (1x28x28)\n",
    "eps = torch.normal(0,1,(1,28,28))\n",
    "\n",
    "# calculate alpha - this could be moved?\n",
    "alphas = 1-betas"
   ]
  },
  {
   "cell_type": "code",
   "execution_count": 39,
   "metadata": {},
   "outputs": [
    {
     "data": {
      "text/plain": [
       "tensor([[[0.0000, 0.0000, 0.0000, 0.0000, 0.0000, 0.0000, 0.0000, 0.0000,\n",
       "          0.0000, 0.0000, 0.0000, 0.0000, 0.0000, 0.0000, 0.0000, 0.0000,\n",
       "          0.0000, 0.0000, 0.0000, 0.0000, 0.0000, 0.0000, 0.0000, 0.0000,\n",
       "          0.0000, 0.0000, 0.0000, 0.0000],\n",
       "         [0.0000, 0.0000, 0.0000, 0.0000, 0.0000, 0.0000, 0.0000, 0.0000,\n",
       "          0.0000, 0.0000, 0.0000, 0.0000, 0.0000, 0.0000, 0.0000, 0.0000,\n",
       "          0.0000, 0.0000, 0.0000, 0.0000, 0.0000, 0.0000, 0.0000, 0.0000,\n",
       "          0.0000, 0.0000, 0.0000, 0.0000],\n",
       "         [0.0000, 0.0000, 0.0000, 0.0000, 0.0000, 0.0000, 0.0000, 0.0000,\n",
       "          0.0000, 0.0000, 0.0000, 0.0000, 0.0000, 0.0000, 0.0000, 0.0000,\n",
       "          0.0000, 0.0000, 0.0000, 0.0000, 0.0000, 0.0000, 0.0000, 0.0000,\n",
       "          0.0000, 0.0000, 0.0000, 0.0000],\n",
       "         [0.0000, 0.0000, 0.0000, 0.0000, 0.0000, 0.0000, 0.0000, 0.0000,\n",
       "          0.0000, 0.0000, 0.0000, 0.0000, 0.0000, 0.0000, 0.0000, 0.0000,\n",
       "          0.0000, 0.0000, 0.0000, 0.0000, 0.0000, 0.0000, 0.0000, 0.0000,\n",
       "          0.0000, 0.0000, 0.0000, 0.0000],\n",
       "         [0.0000, 0.0000, 0.0000, 0.0000, 0.0000, 0.0000, 0.0000, 0.0000,\n",
       "          0.0000, 0.0000, 0.0000, 0.0000, 0.0000, 0.0000, 0.0000, 0.0000,\n",
       "          0.0000, 0.0000, 0.0000, 0.0000, 0.0000, 0.0000, 0.0000, 0.0000,\n",
       "          0.0000, 0.0000, 0.0000, 0.0000],\n",
       "         [0.0000, 0.0000, 0.0000, 0.0000, 0.0000, 0.0000, 0.0000, 0.0000,\n",
       "          0.0000, 0.0000, 0.0000, 0.0000, 0.0118, 0.0706, 0.0706, 0.0706,\n",
       "          0.4941, 0.5333, 0.6863, 0.1020, 0.6510, 1.0000, 0.9686, 0.4980,\n",
       "          0.0000, 0.0000, 0.0000, 0.0000],\n",
       "         [0.0000, 0.0000, 0.0000, 0.0000, 0.0000, 0.0000, 0.0000, 0.0000,\n",
       "          0.1176, 0.1412, 0.3686, 0.6039, 0.6667, 0.9922, 0.9922, 0.9922,\n",
       "          0.9922, 0.9922, 0.8824, 0.6745, 0.9922, 0.9490, 0.7647, 0.2510,\n",
       "          0.0000, 0.0000, 0.0000, 0.0000],\n",
       "         [0.0000, 0.0000, 0.0000, 0.0000, 0.0000, 0.0000, 0.0000, 0.1922,\n",
       "          0.9333, 0.9922, 0.9922, 0.9922, 0.9922, 0.9922, 0.9922, 0.9922,\n",
       "          0.9922, 0.9843, 0.3647, 0.3216, 0.3216, 0.2196, 0.1529, 0.0000,\n",
       "          0.0000, 0.0000, 0.0000, 0.0000],\n",
       "         [0.0000, 0.0000, 0.0000, 0.0000, 0.0000, 0.0000, 0.0000, 0.0706,\n",
       "          0.8588, 0.9922, 0.9922, 0.9922, 0.9922, 0.9922, 0.7765, 0.7137,\n",
       "          0.9686, 0.9451, 0.0000, 0.0000, 0.0000, 0.0000, 0.0000, 0.0000,\n",
       "          0.0000, 0.0000, 0.0000, 0.0000],\n",
       "         [0.0000, 0.0000, 0.0000, 0.0000, 0.0000, 0.0000, 0.0000, 0.0000,\n",
       "          0.3137, 0.6118, 0.4196, 0.9922, 0.9922, 0.8039, 0.0431, 0.0000,\n",
       "          0.1686, 0.6039, 0.0000, 0.0000, 0.0000, 0.0000, 0.0000, 0.0000,\n",
       "          0.0000, 0.0000, 0.0000, 0.0000],\n",
       "         [0.0000, 0.0000, 0.0000, 0.0000, 0.0000, 0.0000, 0.0000, 0.0000,\n",
       "          0.0000, 0.0549, 0.0039, 0.6039, 0.9922, 0.3529, 0.0000, 0.0000,\n",
       "          0.0000, 0.0000, 0.0000, 0.0000, 0.0000, 0.0000, 0.0000, 0.0000,\n",
       "          0.0000, 0.0000, 0.0000, 0.0000],\n",
       "         [0.0000, 0.0000, 0.0000, 0.0000, 0.0000, 0.0000, 0.0000, 0.0000,\n",
       "          0.0000, 0.0000, 0.0000, 0.5451, 0.9922, 0.7451, 0.0078, 0.0000,\n",
       "          0.0000, 0.0000, 0.0000, 0.0000, 0.0000, 0.0000, 0.0000, 0.0000,\n",
       "          0.0000, 0.0000, 0.0000, 0.0000],\n",
       "         [0.0000, 0.0000, 0.0000, 0.0000, 0.0000, 0.0000, 0.0000, 0.0000,\n",
       "          0.0000, 0.0000, 0.0000, 0.0431, 0.7451, 0.9922, 0.2745, 0.0000,\n",
       "          0.0000, 0.0000, 0.0000, 0.0000, 0.0000, 0.0000, 0.0000, 0.0000,\n",
       "          0.0000, 0.0000, 0.0000, 0.0000],\n",
       "         [0.0000, 0.0000, 0.0000, 0.0000, 0.0000, 0.0000, 0.0000, 0.0000,\n",
       "          0.0000, 0.0000, 0.0000, 0.0000, 0.1373, 0.9451, 0.8824, 0.6275,\n",
       "          0.4235, 0.0039, 0.0000, 0.0000, 0.0000, 0.0000, 0.0000, 0.0000,\n",
       "          0.0000, 0.0000, 0.0000, 0.0000],\n",
       "         [0.0000, 0.0000, 0.0000, 0.0000, 0.0000, 0.0000, 0.0000, 0.0000,\n",
       "          0.0000, 0.0000, 0.0000, 0.0000, 0.0000, 0.3176, 0.9412, 0.9922,\n",
       "          0.9922, 0.4667, 0.0980, 0.0000, 0.0000, 0.0000, 0.0000, 0.0000,\n",
       "          0.0000, 0.0000, 0.0000, 0.0000],\n",
       "         [0.0000, 0.0000, 0.0000, 0.0000, 0.0000, 0.0000, 0.0000, 0.0000,\n",
       "          0.0000, 0.0000, 0.0000, 0.0000, 0.0000, 0.0000, 0.1765, 0.7294,\n",
       "          0.9922, 0.9922, 0.5882, 0.1059, 0.0000, 0.0000, 0.0000, 0.0000,\n",
       "          0.0000, 0.0000, 0.0000, 0.0000],\n",
       "         [0.0000, 0.0000, 0.0000, 0.0000, 0.0000, 0.0000, 0.0000, 0.0000,\n",
       "          0.0000, 0.0000, 0.0000, 0.0000, 0.0000, 0.0000, 0.0000, 0.0627,\n",
       "          0.3647, 0.9882, 0.9922, 0.7333, 0.0000, 0.0000, 0.0000, 0.0000,\n",
       "          0.0000, 0.0000, 0.0000, 0.0000],\n",
       "         [0.0000, 0.0000, 0.0000, 0.0000, 0.0000, 0.0000, 0.0000, 0.0000,\n",
       "          0.0000, 0.0000, 0.0000, 0.0000, 0.0000, 0.0000, 0.0000, 0.0000,\n",
       "          0.0000, 0.9765, 0.9922, 0.9765, 0.2510, 0.0000, 0.0000, 0.0000,\n",
       "          0.0000, 0.0000, 0.0000, 0.0000],\n",
       "         [0.0000, 0.0000, 0.0000, 0.0000, 0.0000, 0.0000, 0.0000, 0.0000,\n",
       "          0.0000, 0.0000, 0.0000, 0.0000, 0.0000, 0.0000, 0.1804, 0.5098,\n",
       "          0.7176, 0.9922, 0.9922, 0.8118, 0.0078, 0.0000, 0.0000, 0.0000,\n",
       "          0.0000, 0.0000, 0.0000, 0.0000],\n",
       "         [0.0000, 0.0000, 0.0000, 0.0000, 0.0000, 0.0000, 0.0000, 0.0000,\n",
       "          0.0000, 0.0000, 0.0000, 0.0000, 0.1529, 0.5804, 0.8980, 0.9922,\n",
       "          0.9922, 0.9922, 0.9804, 0.7137, 0.0000, 0.0000, 0.0000, 0.0000,\n",
       "          0.0000, 0.0000, 0.0000, 0.0000],\n",
       "         [0.0000, 0.0000, 0.0000, 0.0000, 0.0000, 0.0000, 0.0000, 0.0000,\n",
       "          0.0000, 0.0000, 0.0941, 0.4471, 0.8667, 0.9922, 0.9922, 0.9922,\n",
       "          0.9922, 0.7882, 0.3059, 0.0000, 0.0000, 0.0000, 0.0000, 0.0000,\n",
       "          0.0000, 0.0000, 0.0000, 0.0000],\n",
       "         [0.0000, 0.0000, 0.0000, 0.0000, 0.0000, 0.0000, 0.0000, 0.0000,\n",
       "          0.0902, 0.2588, 0.8353, 0.9922, 0.9922, 0.9922, 0.9922, 0.7765,\n",
       "          0.3176, 0.0078, 0.0000, 0.0000, 0.0000, 0.0000, 0.0000, 0.0000,\n",
       "          0.0000, 0.0000, 0.0000, 0.0000],\n",
       "         [0.0000, 0.0000, 0.0000, 0.0000, 0.0000, 0.0000, 0.0706, 0.6706,\n",
       "          0.8588, 0.9922, 0.9922, 0.9922, 0.9922, 0.7647, 0.3137, 0.0353,\n",
       "          0.0000, 0.0000, 0.0000, 0.0000, 0.0000, 0.0000, 0.0000, 0.0000,\n",
       "          0.0000, 0.0000, 0.0000, 0.0000],\n",
       "         [0.0000, 0.0000, 0.0000, 0.0000, 0.2157, 0.6745, 0.8863, 0.9922,\n",
       "          0.9922, 0.9922, 0.9922, 0.9569, 0.5216, 0.0431, 0.0000, 0.0000,\n",
       "          0.0000, 0.0000, 0.0000, 0.0000, 0.0000, 0.0000, 0.0000, 0.0000,\n",
       "          0.0000, 0.0000, 0.0000, 0.0000],\n",
       "         [0.0000, 0.0000, 0.0000, 0.0000, 0.5333, 0.9922, 0.9922, 0.9922,\n",
       "          0.8314, 0.5294, 0.5176, 0.0627, 0.0000, 0.0000, 0.0000, 0.0000,\n",
       "          0.0000, 0.0000, 0.0000, 0.0000, 0.0000, 0.0000, 0.0000, 0.0000,\n",
       "          0.0000, 0.0000, 0.0000, 0.0000],\n",
       "         [0.0000, 0.0000, 0.0000, 0.0000, 0.0000, 0.0000, 0.0000, 0.0000,\n",
       "          0.0000, 0.0000, 0.0000, 0.0000, 0.0000, 0.0000, 0.0000, 0.0000,\n",
       "          0.0000, 0.0000, 0.0000, 0.0000, 0.0000, 0.0000, 0.0000, 0.0000,\n",
       "          0.0000, 0.0000, 0.0000, 0.0000],\n",
       "         [0.0000, 0.0000, 0.0000, 0.0000, 0.0000, 0.0000, 0.0000, 0.0000,\n",
       "          0.0000, 0.0000, 0.0000, 0.0000, 0.0000, 0.0000, 0.0000, 0.0000,\n",
       "          0.0000, 0.0000, 0.0000, 0.0000, 0.0000, 0.0000, 0.0000, 0.0000,\n",
       "          0.0000, 0.0000, 0.0000, 0.0000],\n",
       "         [0.0000, 0.0000, 0.0000, 0.0000, 0.0000, 0.0000, 0.0000, 0.0000,\n",
       "          0.0000, 0.0000, 0.0000, 0.0000, 0.0000, 0.0000, 0.0000, 0.0000,\n",
       "          0.0000, 0.0000, 0.0000, 0.0000, 0.0000, 0.0000, 0.0000, 0.0000,\n",
       "          0.0000, 0.0000, 0.0000, 0.0000]]])"
      ]
     },
     "metadata": {},
     "output_type": "display_data"
    },
    {
     "data": {
      "text/plain": [
       "<matplotlib.image.AxesImage at 0x16645ccb0>"
      ]
     },
     "execution_count": 39,
     "metadata": {},
     "output_type": "execute_result"
    },
    {
     "data": {
      "image/png": "[encoded data removed]",
      "text/plain": [
       "<Figure size 640x480 with 1 Axes>"
      ]
     },
     "metadata": {},
     "output_type": "display_data"
    }
   ],
   "source": [
    "# allows us to test different time intervals - can be used for visualisation etc.\n",
    "t = 5\n",
    "alpha_bar = torch.prod(alphas[:t])\n",
    "\n",
    "test_image, l = base_images[0]\n",
    "\n",
    "x_t = torch.sqrt(alpha_bar)*test_image + torch.sqrt(1-alpha_bar)*eps\n",
    "\n",
    "display(test_image)\n",
    "\n",
    "plt.imshow(x_t.squeeze(),cmap=\"gray\")"
   ]
  },
  {
   "cell_type": "markdown",
   "metadata": {},
   "source": [
    "# TODO: add more visualisations, noise every image, etc."
   ]
  },
  {
   "cell_type": "markdown",
   "metadata": {},
   "source": [
    "# U-net construction, training"
   ]
  }
 ],
 "metadata": {
  "kernelspec": {
   "display_name": "neural-networks-course",
   "language": "python",
   "name": "python3"
  },
  "language_info": {
   "codemirror_mode": {
    "name": "ipython",
    "version": 3
   },
   "file_extension": ".py",
   "mimetype": "text/x-python",
   "name": "python",
   "nbconvert_exporter": "python",
   "pygments_lexer": "ipython3",
   "version": "3.12.2"
  }
 },
 "nbformat": 4,
 "nbformat_minor": 2
}
